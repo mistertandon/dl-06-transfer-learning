{
 "cells": [
  {
   "cell_type": "code",
   "execution_count": 1,
   "metadata": {},
   "outputs": [],
   "source": [
    "from PIL import Image\n",
    "import glob\n",
    "import os"
   ]
  },
  {
   "cell_type": "code",
   "execution_count": 2,
   "metadata": {},
   "outputs": [
    {
     "data": {
      "text/plain": [
       "<module 'ntpath' from 'C:\\\\Users\\\\mistertandon\\\\Anaconda3\\\\envs\\\\py38t23\\\\lib\\\\ntpath.py'>"
      ]
     },
     "execution_count": 2,
     "metadata": {},
     "output_type": "execute_result"
    }
   ],
   "source": [
    "os.path"
   ]
  },
  {
   "cell_type": "code",
   "execution_count": 3,
   "metadata": {},
   "outputs": [
    {
     "data": {
      "text/plain": [
       "'D:\\\\git_repos\\\\dl-06-transfer-learning\\\\data-ref\\\\dogs-vs-cats'"
      ]
     },
     "execution_count": 3,
     "metadata": {},
     "output_type": "execute_result"
    }
   ],
   "source": [
    "current_dirname = os.path.abspath(os.getcwd())\n",
    "data_dirname = os.path.join(current_dirname, 'data-ref\\\\dogs-vs-cats')\n",
    "data_dirname"
   ]
  },
  {
   "cell_type": "code",
   "execution_count": 4,
   "metadata": {},
   "outputs": [
    {
     "data": {
      "text/plain": [
       "['sampleSubmission.csv', 'test1.zip', 'train', 'train.zip', 'train_1']"
      ]
     },
     "execution_count": 4,
     "metadata": {},
     "output_type": "execute_result"
    }
   ],
   "source": [
    "os.listdir(data_dirname)"
   ]
  },
  {
   "cell_type": "code",
   "execution_count": 5,
   "metadata": {},
   "outputs": [],
   "source": [
    "def create_directory(parent_dirname, child_dirname):\n",
    "\n",
    "    child_dirpath = os.path.join(parent_dirname, child_dirname.lower())\n",
    "\n",
    "    if not os.path.exists(child_dirpath):\n",
    "\n",
    "        os.mkdir(parent_dirname+\"/\"+child_dirname.lower())\n",
    "\n",
    "    return child_dirpath"
   ]
  },
  {
   "cell_type": "code",
   "execution_count": 6,
   "metadata": {},
   "outputs": [
    {
     "data": {
      "text/plain": [
       "'D:\\\\git_repos\\\\dl-06-transfer-learning\\\\data-ref\\\\dogs-vs-cats\\\\train'"
      ]
     },
     "execution_count": 6,
     "metadata": {},
     "output_type": "execute_result"
    }
   ],
   "source": [
    "train_dirname = create_directory(data_dirname, 'train')\n",
    "train_dirname"
   ]
  },
  {
   "cell_type": "code",
   "execution_count": 7,
   "metadata": {},
   "outputs": [
    {
     "data": {
      "text/plain": [
       "['sampleSubmission.csv', 'test1.zip', 'train', 'train.zip', 'train_1']"
      ]
     },
     "execution_count": 7,
     "metadata": {},
     "output_type": "execute_result"
    }
   ],
   "source": [
    "os.listdir(data_dirname)"
   ]
  },
  {
   "cell_type": "code",
   "execution_count": 8,
   "metadata": {},
   "outputs": [
    {
     "data": {
      "text/plain": [
       "'D:\\\\git_repos\\\\dl-06-transfer-learning\\\\data-ref\\\\dogs-vs-cats\\\\train_1'"
      ]
     },
     "execution_count": 8,
     "metadata": {},
     "output_type": "execute_result"
    }
   ],
   "source": [
    "images_source_dirname = os.path.join(data_dirname, 'train_1')\n",
    "images_source_dirname"
   ]
  },
  {
   "cell_type": "code",
   "execution_count": 9,
   "metadata": {},
   "outputs": [],
   "source": [
    "def read_data_from_directory(path):\n",
    "    \n",
    "    img_list_raw  = glob.glob(path)\n",
    "    \n",
    "    return img_list_raw"
   ]
  },
  {
   "cell_type": "code",
   "execution_count": 10,
   "metadata": {},
   "outputs": [
    {
     "data": {
      "text/plain": [
       "'D:\\\\git_repos\\\\dl-06-transfer-learning\\\\data-ref\\\\dogs-vs-cats\\\\train_1\\\\*'"
      ]
     },
     "execution_count": 10,
     "metadata": {},
     "output_type": "execute_result"
    }
   ],
   "source": [
    "images_source_path_pattern = os.path.join(images_source_dirname, '*')\n",
    "images_source_path_pattern"
   ]
  },
  {
   "cell_type": "code",
   "execution_count": 11,
   "metadata": {},
   "outputs": [
    {
     "name": "stdout",
     "output_type": "stream",
     "text": [
      "<class 'list'>\n",
      "25000\n",
      "D:\\git_repos\\dl-06-transfer-learning\\data-ref\\dogs-vs-cats\\train_1\\cat.0.jpg\n"
     ]
    }
   ],
   "source": [
    "img_list_raw = read_data_from_directory(images_source_path_pattern)\n",
    "print(type(img_list_raw))\n",
    "print(len(img_list_raw))\n",
    "print(img_list_raw[0])"
   ]
  },
  {
   "cell_type": "code",
   "execution_count": 12,
   "metadata": {},
   "outputs": [],
   "source": [
    "def get_image_name(raw_image_path):\n",
    "    \n",
    "    img_name = raw_image_path.split('\\\\')[-1]\n",
    "    \n",
    "    return img_name"
   ]
  },
  {
   "cell_type": "code",
   "execution_count": 13,
   "metadata": {},
   "outputs": [],
   "source": [
    "def get_image_information(img_name):\n",
    "\n",
    "    category_name, idx, extension = img_name.split('.')\n",
    "    \n",
    "    return (category_name, idx, extension)"
   ]
  },
  {
   "cell_type": "code",
   "execution_count": 14,
   "metadata": {},
   "outputs": [
    {
     "data": {
      "text/plain": [
       "'cat.0.jpg'"
      ]
     },
     "execution_count": 14,
     "metadata": {},
     "output_type": "execute_result"
    }
   ],
   "source": [
    "img_name = get_image_name(img_list_raw[0])\n",
    "img_name"
   ]
  },
  {
   "cell_type": "code",
   "execution_count": 15,
   "metadata": {},
   "outputs": [
    {
     "name": "stdout",
     "output_type": "stream",
     "text": [
      "cat\n",
      "0\n",
      "jpg\n"
     ]
    }
   ],
   "source": [
    "category_name, idx, img_extension = get_image_information(img_name)\n",
    "print(category_name)\n",
    "print(idx)\n",
    "print(img_extension)"
   ]
  },
  {
   "cell_type": "code",
   "execution_count": 16,
   "metadata": {},
   "outputs": [
    {
     "data": {
      "text/plain": [
       "'D:\\\\git_repos\\\\dl-06-transfer-learning\\\\data-ref\\\\dogs-vs-cats\\\\train\\\\cat'"
      ]
     },
     "execution_count": 16,
     "metadata": {},
     "output_type": "execute_result"
    }
   ],
   "source": [
    "category_path = create_directory(train_dirname, category_name)\n",
    "category_path"
   ]
  },
  {
   "cell_type": "code",
   "execution_count": 18,
   "metadata": {},
   "outputs": [],
   "source": [
    "def move_images(glob_imges, parent_dirname):\n",
    "\n",
    "    for img_name_with_path in glob_imges:\n",
    "\n",
    "        img_name = get_image_name(img_name_with_path)\n",
    "\n",
    "        category_name, idx, img_extension = get_image_information(img_name)\n",
    "\n",
    "        category_path = create_directory(parent_dirname, category_name)\n",
    "\n",
    "        \"\"\"\n",
    "        Remove break statement before running this function\n",
    "        \"\"\"\n",
    "        break\n",
    "\n",
    "        with open(img_name_with_path, 'rb') as file:\n",
    "\n",
    "            target_img_path = os.path.join(category_path, img_name)\n",
    "            \n",
    "            img_instance = Image.open(file)\n",
    "            img_instance.save(target_img_path)\n",
    "\n",
    "    return"
   ]
  },
  {
   "cell_type": "code",
   "execution_count": 19,
   "metadata": {},
   "outputs": [
    {
     "name": "stdout",
     "output_type": "stream",
     "text": [
      "D:\\git_repos\\dl-06-transfer-learning\\data-ref\\dogs-vs-cats\\train\\cat\\cat.0.jpg\n"
     ]
    }
   ],
   "source": [
    "move_images(img_list_raw, train_dirname)"
   ]
  }
 ],
 "metadata": {
  "kernelspec": {
   "display_name": "Python 3",
   "language": "python",
   "name": "python3"
  },
  "language_info": {
   "codemirror_mode": {
    "name": "ipython",
    "version": 3
   },
   "file_extension": ".py",
   "mimetype": "text/x-python",
   "name": "python",
   "nbconvert_exporter": "python",
   "pygments_lexer": "ipython3",
   "version": "3.8.0"
  }
 },
 "nbformat": 4,
 "nbformat_minor": 4
}
